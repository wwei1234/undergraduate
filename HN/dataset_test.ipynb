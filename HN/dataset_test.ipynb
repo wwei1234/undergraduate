{
 "cells": [
  {
   "cell_type": "code",
   "execution_count": 85,
   "metadata": {},
   "outputs": [],
   "source": [
    "import torch\n",
    "from torch.utils.data import Dataset\n",
    "import numpy as np\n",
    "import segyio\n",
    "import numpy as np\n",
    "import os\n",
    "import pandas as pd\n",
    "import pywt\n",
    "import matplotlib\n",
    "import torch.nn.functional as F\n",
    "from torch.utils.data import DataLoader\n",
    "matplotlib.use('TkAgg')\n",
    "import re"
   ]
  },
  {
   "cell_type": "code",
   "execution_count": 113,
   "metadata": {},
   "outputs": [
    {
     "data": {
      "text/plain": [
       "[['1343.7', '1345.1', '0'],\n",
       " ['1348.0', '1353.8', '0'],\n",
       " ['1353.8', '1354.7', '4'],\n",
       " ['1356.4', '1358.2', '4'],\n",
       " ['1368.7', '1372.8', '4'],\n",
       " ['1372.8', '1376.1', '4'],\n",
       " ['1376.1', '1378.0', '4'],\n",
       " ['1378.0', '1379.6', '4'],\n",
       " ['1379.6', '1382.0', '4'],\n",
       " ['1382.0', '1389.5', '4'],\n",
       " ['1389.5', '1390.5', '0'],\n",
       " ['1390.5', '1392.4', '4'],\n",
       " ['1392.4', '1403.7', '0'],\n",
       " ['1403.7', '1406.0', '0'],\n",
       " ['1407.2', '1409.5', '0'],\n",
       " ['1409.5', '1411.4', '0'],\n",
       " ['1420.0', '1422.0', '0'],\n",
       " ['1423.6', '1429.0', '0'],\n",
       " ['1429.0', '1438.3', '0'],\n",
       " ['1438.3', '1443.4', '6'],\n",
       " ['1443.4', '1449.4', '6'],\n",
       " ['1449.4', '1456.0', '6'],\n",
       " ['1456.0', '1469.0', '6'],\n",
       " ['1469.0', '1477.6', '6'],\n",
       " ['1477.6', '1482.4', '0']]"
      ]
     },
     "execution_count": 113,
     "metadata": {},
     "output_type": "execute_result"
    }
   ],
   "source": [
    "def read_log(well_path):\n",
    "# 创建一个空列表来存储数据\n",
    "    filtered_data = []\n",
    "    # 打开文件\n",
    "    with open(well_path, 'r') as file:\n",
    "        # 逐行读取文件内容\n",
    "        for line in file:\n",
    "            # 去除行末的换行符并按空格分割行数据\n",
    "            data = line.strip().split()\n",
    "            # 如果数据行的第一列是数字（排除空行）\n",
    "            if data and data[0].isdigit():\n",
    "                # 如果是“结论”列，我们需要检查是否需要替换汉字为数字\n",
    "                filtered_data.append(data[1:3] + [data[-1]])\n",
    "    # 汉字数字对应的字典\n",
    "    conversion_dict = {\n",
    "        '水层': '6',\n",
    "        '差气层': '1',\n",
    "        '干层': '0',\n",
    "        '特低渗气层': '2',\n",
    "        '气水同层': '3',\n",
    "        '含气水层': '5',\n",
    "        '气层':'4'\n",
    "    }\n",
    "    # 替换汉字为数字\n",
    "    for item in filtered_data:\n",
    "        item[-1] = conversion_dict.get(item[-1], item[-1])\n",
    "    return filtered_data\n",
    "well_path = 'D:\\桌面/2024王威本科毕设\\HN\\井/DF1-1-8.txt'\n",
    "data = read_log(well_path)\n",
    "data"
   ]
  },
  {
   "cell_type": "code",
   "execution_count": 130,
   "metadata": {},
   "outputs": [
    {
     "data": {
      "text/plain": [
       "[['2586.9', '2598.3', '0'],\n",
       " ['2607.9', '2629.1', '0'],\n",
       " ['2721.4', '2735.9', '5'],\n",
       " ['2760.8', '2763.0', '5'],\n",
       " ['2763.0', '2765.8', '5'],\n",
       " ['2765.8', '2769.4', '5'],\n",
       " ['2769.4', '2773.3', '5'],\n",
       " ['2773.3', '2782.9', '5'],\n",
       " ['2782.9', '2799.3', '5'],\n",
       " ['2806.6', '2834.0', '5'],\n",
       " ['2834.0', '2846.3', '0'],\n",
       " ['2863.1', '2866.7', '5'],\n",
       " ['2891.8', '2906.2', '0'],\n",
       " ['2907.8', '2909.1', '0'],\n",
       " ['2909.1', '2913.4', '0'],\n",
       " ['2913.4', '2916.2', '4'],\n",
       " ['2963.9', '2965.2', '0'],\n",
       " ['2983.3', '2984.1', '0'],\n",
       " ['2986.3', '2987.1', '0'],\n",
       " ['2988.2', '2992.7', '0'],\n",
       " ['3003.8', '3005.9', '0'],\n",
       " ['3009.6', '3011.6', '0'],\n",
       " ['3017.5', '3028.1', '0'],\n",
       " ['3034.9', '3035.5', '0'],\n",
       " ['3075.4', '3076.1', '0'],\n",
       " ['3095.2', '3096.6', '0'],\n",
       " ['3122.6', '3128.9', '0'],\n",
       " ['3130.5', '3132.6', '0'],\n",
       " ['3133.4', '3135.2', '0'],\n",
       " ['3139.5', '3140.8', '0'],\n",
       " ['3140.8', '3143.2', '1'],\n",
       " ['3143.2', '3145.6', '0'],\n",
       " ['3145.6', '3155.2', '1'],\n",
       " ['3155.2', '3157.5', '0'],\n",
       " ['3171.9', '3173.7', '0'],\n",
       " ['3173.7', '3175.5', '1'],\n",
       " ['3175.5', '3184.6', '0'],\n",
       " ['3187.8', '3188.6', '0'],\n",
       " ['3190.6', '3194.8', '0'],\n",
       " ['3200.3', '3203.0', '0'],\n",
       " ['3204.6', '3206.5', '0'],\n",
       " ['3208.6', '3213.5', '0'],\n",
       " ['3222.8', '3227.5', '0'],\n",
       " ['3245.4', '3249.2', '0'],\n",
       " ['3254.7', '3259.7', '0'],\n",
       " ['3262.4', '3265.5', '0'],\n",
       " ['3276.1', '3278.9', '0'],\n",
       " ['3284.3', '3308.7', '0'],\n",
       " ['3320.0', '3323.8', '0'],\n",
       " ['3325.0', '3328.7', '1'],\n",
       " ['3331.6', '3334.2', '0'],\n",
       " ['3336.0', '3345.5', '0'],\n",
       " ['3358.0', '3361.4', '0']]"
      ]
     },
     "execution_count": 130,
     "metadata": {},
     "output_type": "execute_result"
    }
   ],
   "source": [
    "names = os.listdir('D:/桌面/2024王威本科毕设/HN/井')                   \n",
    "c = []\n",
    "for name in names:\n",
    "    path = 'D:\\桌面/2024王威本科毕设\\HN\\井' + '/' + name\n",
    "    c.append(path)\n",
    "match = re.search(r'DF\\d+-\\d+-[A-Za-z\\d]+', well_path)\n",
    "well_name = match.group(0)\n",
    "well_path = c[11]\n",
    "data = read_log(well_path)\n",
    "data\n"
   ]
  },
  {
   "cell_type": "code",
   "execution_count": 94,
   "metadata": {},
   "outputs": [
    {
     "data": {
      "text/plain": [
       "{'DF1-1-2': ('156058', '2060215'),\n",
       " 'DF1-1-8': ('155824.7', '2053220.7'),\n",
       " 'DF1-1-11': ('154188.5', '2061487.5'),\n",
       " 'DF1-1-12': ('158366.7', '2065231.56'),\n",
       " 'DF1-1-13': ('160151.6', '2059865.6'),\n",
       " 'DF1-1-1C': ('157097.5', '2055952.7'),\n",
       " 'DF17-2-1': ('161472.1', '2053838.4'),\n",
       " 'DF11-2-1d': ('156358.6', '2064917.3'),\n",
       " 'DF13-1-10': ('151205.83', '2061583.37'),\n",
       " 'DF1-1-Z1': ('154699.6', '2058893'),\n",
       " 'DF11-2-2': ('159025.1', '2058538.1'),\n",
       " 'DF11-2-7': ('158613', '2065162.5')}"
      ]
     },
     "execution_count": 94,
     "metadata": {},
     "output_type": "execute_result"
    }
   ],
   "source": [
    "def read_inf(inf_path):\n",
    "    data_dict = {}\n",
    "    # 打开文件\n",
    "    with open(inf_path, 'r') as file:\n",
    "        # 逐行读取文件内容\n",
    "        for idx, line in enumerate(file):\n",
    "            # 跳过第一行\n",
    "            if idx == 0:\n",
    "                continue\n",
    "            # 去除行末的换行符并按空格分割行数据\n",
    "            data = line.strip().split()\n",
    "            # 如果数据行的长度大于等于3（排除空行或不完整行）\n",
    "            if len(data) >= 3:\n",
    "                # 提取前三列数据\n",
    "                columns = data[:3]\n",
    "                # 去除冒号\n",
    "                columns[0] = columns[0].replace(':', '')\n",
    "                # 将第一个名称作为键，后面两个数据作为值添加到字典中\n",
    "                data_dict[columns[0]] = (columns[1], columns[2])\n",
    "    return data_dict\n",
    "\n",
    "dict = read_inf( 'D:/桌面/2024王威本科毕设/HN/井点坐标.txt')\n",
    "\n",
    "inline = int((int(float(dict[well_name][0])) - 148525.5)/12.5) + 2880\n",
    "xline = int(int(2068537.5 - float(dict[well_name][1]))/12.5) + 2870\n",
    "dict\n"
   ]
  },
  {
   "cell_type": "code",
   "execution_count": 89,
   "metadata": {},
   "outputs": [
    {
     "data": {
      "text/plain": [
       "array([-292.65698 , -270.11353 , -148.2142  , ...,   -7.569336,\n",
       "         72.46167 ,  100.50116 ], dtype=float32)"
      ]
     },
     "execution_count": 89,
     "metadata": {},
     "output_type": "execute_result"
    }
   ],
   "source": [
    "def read_segy_as_data(segyfile, inline_row, xline_row, inline, xline, xline_start):\n",
    "    with segyio.open(segyfile,\"r+\",iline=inline_row, xline=xline_row) as sgydata:\n",
    "        head_data = sgydata.iline[inline][xline-xline_start]         \n",
    "    return head_data       #得到井数据相同位置的地震道数据\n",
    "data = read_segy_as_data('D:/桌面/2024王威本科毕设/HN/CNOOC_DF11_3D_OBN_QPSDM_STK_RAW_D_FEB2023.segy',  189, 193, inline, xline, 2870)\n",
    "data"
   ]
  }
 ],
 "metadata": {
  "kernelspec": {
   "display_name": "wwei",
   "language": "python",
   "name": "python3"
  },
  "language_info": {
   "codemirror_mode": {
    "name": "ipython",
    "version": 3
   },
   "file_extension": ".py",
   "mimetype": "text/x-python",
   "name": "python",
   "nbconvert_exporter": "python",
   "pygments_lexer": "ipython3",
   "version": "3.11.5"
  }
 },
 "nbformat": 4,
 "nbformat_minor": 2
}
