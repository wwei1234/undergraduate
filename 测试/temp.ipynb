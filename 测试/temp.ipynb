{
 "cells": [
  {
   "cell_type": "code",
   "execution_count": 33,
   "metadata": {},
   "outputs": [],
   "source": [
    "import pandas as pd\n",
    "import os\n",
    "import numpy as np"
   ]
  },
  {
   "cell_type": "code",
   "execution_count": 15,
   "metadata": {},
   "outputs": [],
   "source": [
    "filename1 = 'C:/Users\\wwod\\Desktop\\GD\\胜利-软件测试\\数据\\测试数据/test_data/inf1.xlsx'\n",
    "pathname = 'C:/Users\\wwod\\Desktop\\GD\\胜利-软件测试\\数据\\测试数据/test_data'"
   ]
  },
  {
   "cell_type": "code",
   "execution_count": 41,
   "metadata": {},
   "outputs": [],
   "source": [
    "df1 = pd.read_excel(filename1,sheet_name = 'Sheet1', header=0)"
   ]
  },
  {
   "cell_type": "code",
   "execution_count": 50,
   "metadata": {},
   "outputs": [
    {
     "data": {
      "text/plain": [
       "['t73',\n",
       " 't79',\n",
       " 't120',\n",
       " 't121',\n",
       " 't122',\n",
       " 't124',\n",
       " 't128',\n",
       " 't149',\n",
       " 't158',\n",
       " 't764',\n",
       " 't765',\n",
       " 't767',\n",
       " 'ts74']"
      ]
     },
     "execution_count": 50,
     "metadata": {},
     "output_type": "execute_result"
    }
   ],
   "source": [
    "df1['name'].tolist()"
   ]
  },
  {
   "cell_type": "code",
   "execution_count": 22,
   "metadata": {},
   "outputs": [
    {
     "name": "stdout",
     "output_type": "stream",
     "text": [
      "    name  inline  xline  start  stop\n",
      "0    t73    1619   1213    770  1310\n",
      "1    t79    1619   1213    770  1310\n",
      "2   t120    1326   1332   1404  2354\n",
      "3   t121    1611   1334   1448  1888\n",
      "4   t122    1353   1331   1745  2362\n",
      "5   t124    1500   1308    947  2232\n",
      "6   t128    1665   1305    883  2144\n",
      "7   t149    1787   1049    217   314\n",
      "8   t158    1756   1268    304   994\n",
      "9   t764    1485   1205   1769  2169\n",
      "10  t765    1526   1154   1559  2362\n",
      "11  t767    1599   1184   1081  1956\n",
      "12  ts74    1368   1079    477   803\n"
     ]
    }
   ],
   "source": [
    "print(df1)"
   ]
  },
  {
   "cell_type": "code",
   "execution_count": 19,
   "metadata": {},
   "outputs": [
    {
     "data": {
      "text/plain": [
       "['inf1.xlsx',\n",
       " 't120',\n",
       " 't121',\n",
       " 't122',\n",
       " 't124',\n",
       " 't128',\n",
       " 't149',\n",
       " 't158',\n",
       " 't73',\n",
       " 't764',\n",
       " 't765',\n",
       " 't767',\n",
       " 't79',\n",
       " 'temp.h5',\n",
       " 'test.Sgy',\n",
       " 'ts74',\n",
       " '~$inf1.xlsx']"
      ]
     },
     "execution_count": 19,
     "metadata": {},
     "output_type": "execute_result"
    }
   ],
   "source": [
    "os.listdir(pathname)"
   ]
  },
  {
   "cell_type": "code",
   "execution_count": null,
   "metadata": {},
   "outputs": [],
   "source": []
  }
 ],
 "metadata": {
  "kernelspec": {
   "display_name": "wwei",
   "language": "python",
   "name": "python3"
  },
  "language_info": {
   "codemirror_mode": {
    "name": "ipython",
    "version": 3
   },
   "file_extension": ".py",
   "mimetype": "text/x-python",
   "name": "python",
   "nbconvert_exporter": "python",
   "pygments_lexer": "ipython3",
   "version": "3.11.5"
  }
 },
 "nbformat": 4,
 "nbformat_minor": 2
}
