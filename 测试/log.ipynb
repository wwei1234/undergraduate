{
 "cells": [
  {
   "cell_type": "code",
   "execution_count": 8,
   "metadata": {},
   "outputs": [
    {
     "name": "stdout",
     "output_type": "stream",
     "text": [
      "t73\n",
      "[ 770.      770.1524  770.3048 ... 9267.6716 9267.824  9267.9764]\n",
      "['0.0000000000' '0.0000000000' '0.0000000000' ... '1.0000000000'\n",
      " '1.0000000000' '1.0000000000']\n",
      "(55762,)\n"
     ]
    }
   ],
   "source": [
    "import numpy as np\n",
    "import os\n",
    "import matplotlib.pyplot as plt\n",
    "\n",
    "def read_resample_mud_log(file ,interval):\n",
    "    with open(file, 'r') as log:   ##一口井\n",
    "        content = log.read()\n",
    "    extracted_data = []\n",
    "    for line in content.split('\\n'):\n",
    "        if line.strip() and line.strip()[0].isdigit():\n",
    "            parts = line.split()\n",
    "            well_section_start = parts[0]\n",
    "            well_section_end = parts[1]\n",
    "            well_result = parts[-1] \n",
    "            extracted_data.append((well_section_start, well_section_end, well_result))\n",
    "    well_name = os.path.basename(file)  ###井名\n",
    "    depth_start = extracted_data[0][0]\n",
    "    depth_end = extracted_data[-1][1]\n",
    "    depth = np.arange(int(float(depth_start)), int(float(depth_end))+1, interval)      ###深度\n",
    "    mud = np.array(extracted_data)[:,-1]                             ###录井\n",
    "    return well_name, depth, mud\n",
    "\n",
    "def mud_log_plot(mud,depth,colorbar):\n",
    "    data = mud.reshape(len(mud),1)\n",
    "    plt.figure(figsize=(2,10))\n",
    "    plt.imshow(data,interpolation='nearest', aspect='auto',extent=(0,1,depth[-1],depth[0]))  \n",
    "    plt.xticks([])\n",
    "    if colorbar:\n",
    "        plt.colorbar()\n",
    "    plt.show()\n",
    "\n",
    "[well_name,depth,mud] = read_resample_mud_log('C:/Users/wwod/Desktop/GD/data/胜利/t73' ,0.1524)\n",
    "print(well_name)\n",
    "print(depth)\n",
    "print(mud)\n",
    "print(depth.shape)"
   ]
  }
 ],
 "metadata": {
  "kernelspec": {
   "display_name": "wwei",
   "language": "python",
   "name": "python3"
  },
  "language_info": {
   "codemirror_mode": {
    "name": "ipython",
    "version": 3
   },
   "file_extension": ".py",
   "mimetype": "text/x-python",
   "name": "python",
   "nbconvert_exporter": "python",
   "pygments_lexer": "ipython3",
   "version": "3.11.5"
  }
 },
 "nbformat": 4,
 "nbformat_minor": 2
}
